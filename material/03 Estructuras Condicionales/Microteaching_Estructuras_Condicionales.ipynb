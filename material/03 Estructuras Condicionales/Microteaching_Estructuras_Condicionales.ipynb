{
  "nbformat": 4,
  "nbformat_minor": 0,
  "metadata": {
    "colab": {
      "provenance": []
    },
    "kernelspec": {
      "name": "python3",
      "display_name": "Python 3"
    },
    "language_info": {
      "name": "python"
    }
  },
  "cells": [
    {
      "cell_type": "markdown",
      "source": [
        "# Ejercicio 1\n",
        "## Aviso meteorológico\n",
        "Construyamos un programa de avisos meteorológicos que ofrezca recomendaciones basadas en la temperatura y las condiciones de precipitación."
      ],
      "metadata": {
        "id": "u4faCqft4mk0"
      }
    },
    {
      "cell_type": "code",
      "execution_count": null,
      "metadata": {
        "id": "0rHrrjGQ4YeL"
      },
      "outputs": [],
      "source": [
        "temperature = float(input(\"Ingrese la temperatura en °C: \"))\n",
        "\n",
        "is_raining = input(\"¿Está lloviendo? (s/n): \") == \"s\"\n",
        "\n",
        "if temperature > 30:\n",
        "  if is_raining:\n",
        "    print(\"Calor y lluvia. Traiga un paraguas y use ropa liviana.\")\n",
        "  else:\n",
        "    print(\"¡Mucho calor! Use protector solar y manténgase hidratado.\")\n",
        "elif temperature > 20:\n",
        "  if is_raining:\n",
        "    print(\"Cálido y lluvioso. Traiga un paraguas.\")\n",
        "  else:\n",
        "    print(\"Clima agradable. ¡Disfrute su día!\")\n",
        "elif temperature > 10:\n",
        "  if is_raining:\n",
        "    print(\"Frío y lluvioso. Traiga una chaqueta y un paraguas.\")\n",
        "  else:\n",
        "    print(\"Clima fresco. Es posible que necesite una chaqueta ligera.\")\n",
        "else:\n",
        "  if is_raining:\n",
        "    print(\"Frío y lluvioso. Lleve un abrigo abrigado y un paraguas.\")\n",
        "  else:\n",
        "    print(\"Clima frío. ¡Abríguese!\")"
      ]
    },
    {
      "cell_type": "markdown",
      "source": [
        "# Ejercicio 2\n",
        "## Comparación de números\n",
        "Crea un programa que lea dos números y determine cuál es mayor o si son iguales.\n",
        "1. Obtén dos números del usuario\n",
        "2. Compáralos usando condicionales\n",
        "3. Muestra cuál es mayor o si son iguales\n",
        "4. Calcula y muestra la diferencia"
      ],
      "metadata": {
        "id": "2BdH4H6x5JFs"
      }
    },
    {
      "cell_type": "code",
      "source": [
        "num1 = float(input(\"Ingresa el primer número: \"))\n",
        "num2 = float(input(\"Ingresa el segundo número: \"))\n",
        "\n",
        "if num1 > num2:\n",
        "  larger = num1\n",
        "  smaller = num2\n",
        "  print(f\"{num1} es mayor que {num2}\")\n",
        "elif num2 > num1:\n",
        "  larger = num2\n",
        "  smaller = num1\n",
        "  print(f\"{num2} es mayor que {num1}\")\n",
        "else:\n",
        "  print(f\"Ambos números son iguales: {num1} = {num2}\")\n",
        "  larger = smaller = num1\n",
        "  if num1 != num2:\n",
        "    difference = larger - smaller\n",
        "    print(f\"La diferencia es: {difference}\")"
      ],
      "metadata": {
        "id": "VK2Od4Sg5Ves"
      },
      "execution_count": null,
      "outputs": []
    },
    {
      "cell_type": "markdown",
      "source": [
        "# Ejercicio 3\n",
        "## Calculadora de IMC\n",
        "Cree una calculadora de IMC (Índice de Masa Corporal) que:\n",
        "1. Tome la altura (en metros) y el peso (en kg) como entrada\n",
        "2. Calcule el IMC utilizando la fórmula:\n",
        "peso / (altura^2)\n",
        "3. Clasifique el resultado según las categorías estándar\n",
        "4. Proporcione recomendaciones de salud personalizadas"
      ],
      "metadata": {
        "id": "sU6Gntsm5mA_"
      }
    },
    {
      "cell_type": "code",
      "source": [
        "altura = float(input(\"Ingrese su altura en metros: \"))\n",
        "peso = float(input(\"Ingrese su peso en kilogramos: \"))\n",
        "\n",
        "imc = peso / (altura ** 2)\n",
        "print(f\"Su IMC es: {imc:.2f}\")\n",
        "\n",
        "if imc < 18.5:\n",
        "  categoría = \"Bajo peso\"\n",
        "  recomendación = \"Considere consultar con un proveedor de atención médica sobre estrategias saludables para aumentar de peso.\"\n",
        "elif imc < 25:\n",
        "  categoría = \"Peso normal\"\n",
        "  recomendación = \"Mantenga su estilo de vida saludable con una dieta equilibrada y ejercicio regular.\"\n",
        "elif imc < 30:\n",
        "  categoría = \"Sobrepeso\"\n",
        "  recomendación = \"Considere incorporar más actividad física y revisar su dieta.\"\n",
        "else:\n",
        "  categoría = \"Obeso\"\n",
        "  recomendación = \"Se recomienda consultar con un proveedor de atención médica para obtener asesoramiento personalizado.\"\n",
        "\n",
        "print(f\"Categoría: {categoría}\")\n",
        "print(f\"Recomendación: {recomendación}\")"
      ],
      "metadata": {
        "id": "GvN35zO755jg"
      },
      "execution_count": null,
      "outputs": []
    }
  ]
}